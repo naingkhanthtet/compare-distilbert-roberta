{
 "cells": [
  {
   "cell_type": "code",
   "execution_count": 15,
   "metadata": {},
   "outputs": [],
   "source": [
    "from transformers import pipeline"
   ]
  },
  {
   "cell_type": "code",
   "execution_count": 16,
   "metadata": {},
   "outputs": [
    {
     "name": "stderr",
     "output_type": "stream",
     "text": [
      "Device set to use mps:0\n",
      "Device set to use mps:0\n"
     ]
    }
   ],
   "source": [
    "# Load the pre-trained models (DistilBERT cased, Roberta)\n",
    "distilbert = pipeline(\"question-answering\", model=\"distilbert-base-cased-distilled-squad\")\n",
    "roberta = pipeline(\"question-answering\", model=\"deepset/roberta-base-squad2\", tokenizer=\"deepset/roberta-base-squad2\")"
   ]
  },
  {
   "cell_type": "code",
   "execution_count": 17,
   "metadata": {},
   "outputs": [],
   "source": [
    "import json\n",
    "\n",
    "# load dataset\n",
    "with open('dataset.json', 'r') as file:\n",
    "    test_data = json.load(file)"
   ]
  },
  {
   "cell_type": "code",
   "execution_count": 18,
   "metadata": {},
   "outputs": [],
   "source": [
    "import time"
   ]
  },
  {
   "cell_type": "code",
   "execution_count": 19,
   "metadata": {},
   "outputs": [],
   "source": [
    "distilbert_predictions = []\n",
    "distilbert_times = []\n",
    "\n",
    "for item in test_data:\n",
    "    context = item['context']\n",
    "    question = item['question']\n",
    "\n",
    "    # Capture Distil BERT process time\n",
    "    start_time = time.time()\n",
    "    distilbert_answer = distilbert(question=question, context=context)\n",
    "    end_time = time.time()\n",
    "    distilbert_predictions.append(distilbert_answer['answer'])\n",
    "    distilbert_times.append(end_time - start_time)\n",
    "\n",
    "# Get the total process time of Distil BERT\n",
    "total_distilbert_time = sum(distilbert_times)"
   ]
  },
  {
   "cell_type": "code",
   "execution_count": 20,
   "metadata": {},
   "outputs": [],
   "source": [
    "roberta_predictions = []\n",
    "roberta_times = []\n",
    "\n",
    "for item in test_data:\n",
    "    context = item['context']\n",
    "    question = item['question']\n",
    "\n",
    "    # Capture Roberta process time\n",
    "    start_time = time.time()\n",
    "    roberta_answer = roberta(question=question, context=context)\n",
    "    end_time = time.time()\n",
    "    roberta_predictions.append(roberta_answer['answer'])\n",
    "    roberta_times.append(end_time - start_time)\n",
    "\n",
    "# Get total process time of Roberta\n",
    "total_roberta_time = sum(roberta_times)"
   ]
  },
  {
   "cell_type": "code",
   "execution_count": 21,
   "metadata": {},
   "outputs": [
    {
     "name": "stdout",
     "output_type": "stream",
     "text": [
      "Distil BERT process time:  0.9046618938446045 secs\n",
      "Roberta process time:  1.1059167385101318 secs\n"
     ]
    }
   ],
   "source": [
    "print(f\"Distil BERT process time: \", total_distilbert_time, \"secs\")\n",
    "print(f\"Roberta process time: \", total_roberta_time, \"secs\")"
   ]
  },
  {
   "cell_type": "code",
   "execution_count": 22,
   "metadata": {},
   "outputs": [],
   "source": [
    "import re\n",
    "import string\n",
    "from collections import Counter\n",
    "\n",
    "\n",
    "def remove_whitespace(text):\n",
    "    \"\"\"return removed white spaces text\n",
    "    by splitting into words and join them again\"\"\"\n",
    "    return ' '.join(text.split())\n",
    "\n",
    "\n",
    "def remove_articles(text):\n",
    "    \"\"\"return removed articles text\n",
    "    by using Regular Expression\"\"\"\n",
    "    return re.sub(r'\\b(a|an|the)\\b', ' ', text)\n",
    "\n",
    "\n",
    "def remove_punctuation(text):\n",
    "    \"\"\"return removed punctuation text\n",
    "    by using string.punctuation\"\"\"\n",
    "    return ''.join(ch for ch in text if ch not in set(string.punctuation))\n",
    "\n",
    "\n",
    "def clean_answer(ans):\n",
    "    \"\"\"return lowercased text, removed punctuation,\n",
    "    articles, and unnessary whitespaces.\"\"\"\n",
    "    return remove_whitespace(remove_articles(remove_punctuation(ans.lower())))"
   ]
  },
  {
   "cell_type": "code",
   "execution_count": 23,
   "metadata": {},
   "outputs": [],
   "source": [
    "def f1_scores(prediction, true_answer):\n",
    "    \"\"\"return the f1 scores\"\"\"\n",
    "    # split the model answers into a list\n",
    "    pred_tokens = clean_answer(prediction).split()\n",
    "    # split the true answers into a list\n",
    "    truth_tokens = clean_answer(true_answer).split()\n",
    "    # common token between model tokens and true tokens\n",
    "    common = Counter(pred_tokens) & Counter(truth_tokens)\n",
    "    sum_common = sum(common.values())\n",
    "    if sum_common == 0:\n",
    "        return 0\n",
    "    precision = sum_common / len(pred_tokens)\n",
    "    recall = sum_common / len(truth_tokens)\n",
    "    f1 = 2 * (precision * recall) / (precision + recall)\n",
    "    return f1\n",
    "\n",
    "\n",
    "\n",
    "def exact_match_scores(prediction, true_answer):\n",
    "    \"\"\"Calculate Exact Match scores\"\"\"\n",
    "    return clean_answer(prediction) == clean_answer(true_answer)"
   ]
  },
  {
   "cell_type": "code",
   "execution_count": 24,
   "metadata": {},
   "outputs": [],
   "source": [
    "# Function to evaluate\n",
    "def evaluate(model_answers, dataset):\n",
    "    \"\"\"Calculate f1 score and exact match\"\"\"\n",
    "    total_f1 = 0\n",
    "    total_em = 0\n",
    "    for model_ans, item in zip(model_answers, dataset):\n",
    "        # extract only answer section from dataset\n",
    "        dataset_answers = item['answer']\n",
    "        # get a highest value from the f1 scores\n",
    "        f1 = max(f1_scores(model_ans, da) for da in dataset_answers)\n",
    "        # get a highest value from the em scores\n",
    "        em = max(exact_match_scores(model_ans, da) for da in dataset_answers)\n",
    "        total_f1 += f1\n",
    "        total_em += em\n",
    "    f1 = total_f1 / len(dataset)\n",
    "    exact_match = total_em / len(dataset)\n",
    "    return {'exact_match': exact_match, 'f1': f1}"
   ]
  },
  {
   "cell_type": "code",
   "execution_count": 25,
   "metadata": {},
   "outputs": [
    {
     "name": "stdout",
     "output_type": "stream",
     "text": [
      "DistilBERT base Results: {'exact_match': 0.7, 'f1': 0.8664646464646465}\n",
      "RoBERTa base Results: {'exact_match': 0.7666666666666667, 'f1': 0.893015873015873}\n"
     ]
    }
   ],
   "source": [
    "# Evaluate two models\n",
    "distilbert_results = evaluate(distilbert_predictions, test_data)\n",
    "roberta_results = evaluate(roberta_predictions, test_data)\n",
    "\n",
    "print(\"DistilBERT base Results:\", distilbert_results)\n",
    "print(\"RoBERTa base Results:\", roberta_results)"
   ]
  },
  {
   "cell_type": "code",
   "execution_count": 26,
   "metadata": {},
   "outputs": [],
   "source": [
    "import matplotlib.pyplot as plt\n",
    "import seaborn as sb\n",
    "import pandas as pd"
   ]
  },
  {
   "cell_type": "code",
   "execution_count": 27,
   "metadata": {},
   "outputs": [
    {
     "data": {
      "image/png": "[encoded data removed]",
      "text/plain": [
       "<Figure size 1500x500 with 3 Axes>"
      ]
     },
     "metadata": {},
     "output_type": "display_data"
    }
   ],
   "source": [
    "# Storing results as Dictionary\n",
    "results = {\n",
    "    \"Model\": [\"Distil BERT base\", \"RoBERTa base\"],\n",
    "    \"Exact Match\": [distilbert_results['exact_match'], roberta_results['exact_match']],\n",
    "    \"F1 Score\": [distilbert_results['f1'], roberta_results['f1']],\n",
    "    \"Time\": [total_distilbert_time, total_roberta_time]\n",
    "}\n",
    "\n",
    "df = pd.DataFrame(results)\n",
    "\n",
    "# Figure size\n",
    "plt.figure(figsize=(15, 5))\n",
    "\n",
    "# Exact Match Scores\n",
    "plt.subplot(1, 3, 1)\n",
    "sb.barplot(x=\"Model\", y=\"Exact Match\", data=df)\n",
    "plt.title(\"Exact Match Scores\")\n",
    "plt.ylim(0, 1)\n",
    "plt.ylabel(\"Exact Match Score\")\n",
    "plt.xlabel(\"Models\")\n",
    "\n",
    "# F1 Scores\n",
    "plt.subplot(1, 3, 2)\n",
    "sb.barplot(x=\"Model\", y=\"F1 Score\", data=df)\n",
    "plt.title(\"F1 Scores\")\n",
    "plt.ylim(0, 1)\n",
    "plt.ylabel(\"F1 Score\")\n",
    "plt.xlabel(\"Models\")\n",
    "\n",
    "# F1 Scores\n",
    "plt.subplot(1, 3, 3)\n",
    "sb.barplot(x=\"Model\", y=\"Time\", data=df)\n",
    "plt.title(\"F1 Scores\")\n",
    "# plt.ylim(0, 1)\n",
    "plt.title(\"Total process time\")\n",
    "plt.ylabel(\"Total time (seconds)\")\n",
    "plt.xlabel(\"Models\")\n",
    "\n",
    "# plt.tight_layout()\n",
    "plt.show()"
   ]
  }
 ],
 "metadata": {
  "kernelspec": {
   "display_name": "distil-roberta-env",
   "language": "python",
   "name": "python3"
  },
  "language_info": {
   "codemirror_mode": {
    "name": "ipython",
    "version": 3
   },
   "file_extension": ".py",
   "mimetype": "text/x-python",
   "name": "python",
   "nbconvert_exporter": "python",
   "pygments_lexer": "ipython3",
   "version": "3.11.4"
  }
 },
 "nbformat": 4,
 "nbformat_minor": 2
}
